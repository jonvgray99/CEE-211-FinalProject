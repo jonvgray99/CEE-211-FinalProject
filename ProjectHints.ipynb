{
 "cells": [
  {
   "cell_type": "markdown",
   "id": "042ecfca-4a19-4631-9b34-9bfd5ca9419c",
   "metadata": {},
   "source": [
    "Goal: Dev ML to predict healthy state of the crusher\n",
    "\n",
    "Table 1 with raw sensor data\n",
    "- 2min sampling size\n",
    "- scalar system\n",
    "- Unsupervised - no column giving state,\n",
    "    - need to add state of the crusher every two min - synchronize the two data sets\n",
    "\n",
    "\n",
    "Table 2 with downtime events - for plant, including crusher\n",
    "- IBM SAP\n",
    "- many columns, but the relevant ones are:\n",
    "- one column start of downtime event, another is the end, same type of time step in the sensor data.\n",
    "    - Equipment column says what what eq that caused the downtime - code or tag identifying whether is was the crusher, some other comp, or plant, or unknown (txt)\n",
    "    - Failed, operational, scheduled maintenance, external, understock\n",
    "    - Every row is when the whole plant was out of production - dont want this yet, want to filter out these events except \"failed\". The removed ones are ones that left crusher in standby (not a failure)\n",
    "    - 140-CR-004 --> Crusher Code\n",
    "    - Filter in such a way that eq == crusher, and downtime event type == failure\n",
    "    - Downtime == pause --> healthy state == pause\n",
    "    - If have the eq != crusher and downtime ==fail --> crusher is pause\n",
    "Before applying filter need to rename all options then apply filter then synchronization.\n",
    "Need to keep crusher standby data because data is unlabeled so after cleaning we synchronize by start and end of time stamp if time is within range of first two rows therefore the label is whatever it is in the other. If we get to end and dont find a range where this timestamp belongs that means that the crusher was not failed was not standby and should add operating label. If we delete or drop all standby we overestimate the number of times the crusher was operational. Overestimating frequency of the normal condition of the crusher. sync after all filtering.\n",
    "\n",
    "set index for timestamp of sensor data.\n",
    "going to have two dates for the downtime - use pandas to set an interval databased index. pd.intervalindec(start,end, ..). The interval index will have two dates - if dfsensor.index is > dflabels.index and dfsensor.index < df.labels then that row belongs to that interval.\n",
    "\n",
    "At the end we dont want our model to predict the standby states.\n",
    "\n",
    "need to slice data - how much further back you slice you give engineers more time to react. Define some advanced degradation prior to failure --> maybe provides an anticipation of 12 hours.\n",
    "\n",
    "2 states:\n",
    "- identify when the crusher was operating normally and \n",
    "- when the crusher was in a failed state.\n",
    "\n",
    "Should be trained only with data relevant to the pattern or patterns\n",
    "- normal\n",
    "- deviations of normal indicating a degradation up to a failure - no indication from downtime but we do have indication of when the full plant stops with root cause of failure\n",
    "- failure\n"
   ]
  },
  {
   "cell_type": "code",
   "execution_count": null,
   "id": "f4f0428f-b8e1-468c-a034-7f79db6d79ed",
   "metadata": {},
   "outputs": [],
   "source": []
  }
 ],
 "metadata": {
  "kernelspec": {
   "display_name": "Python 3 (ipykernel)",
   "language": "python",
   "name": "python3"
  },
  "language_info": {
   "codemirror_mode": {
    "name": "ipython",
    "version": 3
   },
   "file_extension": ".py",
   "mimetype": "text/x-python",
   "name": "python",
   "nbconvert_exporter": "python",
   "pygments_lexer": "ipython3",
   "version": "3.10.16"
  }
 },
 "nbformat": 4,
 "nbformat_minor": 5
}
