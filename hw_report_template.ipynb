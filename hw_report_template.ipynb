{
 "cells": [
  {
   "cell_type": "markdown",
   "id": "bb45c2b4-4a77-48cc-9b4d-ae6273370939",
   "metadata": {},
   "source": [
    "\n",
    "# Final Project X\n",
    "\n",
    "Winter 2025 - UCLA, Student: *Name - Last Name*, UCLA ID: 12345689\n",
    "\n",
    "**Requirements**\n",
    "- Please don't attach handwritten equations in the report, and don't include equations in this format: r*pi^2. Use an equation editor and paste an image in, or use IPython's built in LaTeX rendering with the single or double dollar sign syntax: $r\\pi^2$ $$r\\pi^2$$\n",
    "- Please number all equations, figures and tables. If you don't do this, your grade will be penalized\n",
    "- If you screenshot the plots or pieces of your code, **make sure the images are perfectly legible**\n",
    "We hope you can keep your report to no more than two pages, unless otherwise specified. You can evaluate this by looking at the print preview for your notebook in Jupyter Lab/Notebook."
   ]
  },
  {
   "cell_type": "markdown",
   "id": "d954e8e9-8fa3-445e-bb7c-7e59d3e4119a",
   "metadata": {},
   "source": [
    "\n",
    "## Task 1\n",
    "\n",
    "### Introduction\n",
    "\n",
    "Briefly explain in 1 paragraph (5 lines max.) the problem in your own words. What were you trying to solve?"
   ]
  },
  {
   "cell_type": "markdown",
   "id": "3056f840-f587-40cb-acfb-bde3a53cc818",
   "metadata": {},
   "source": [
    "\n",
    "### Methodology\n",
    "\n",
    "Show the equations that you will use, if any. **Do not use blurry screenshots or pictures for the equations or any images that you may want to show. Type the equations using an equation editor or IPython's built in LaTeX rendering with the single or double dollar sign syntax.** Here's a good reference for using the built-in rendering <https://jupyterbook.org/en/stable/content/math.html>. To be clear, you can use an equation editor like <https://editor.codecogs.com/> to create an equation _image_, and copy that image in, but make sure the image is clean and legible.\n",
    "\n",
    "If you want to submit a PDF file as well as a notebook, you'll likely have to follow the instructions here <https://nbconvert.readthedocs.io/en/latest/install.html#installing-tex.> so that the export to pdf functionality can translate the LaTeX. If you want to change the title and author lines in the output pdf, see here <https://stackoverflow.com/questions/66929384/add-notebook-author-and-title-in-jupyter-notebook-cells>. You can open Advanced Tools and edit Notebook metadata with the gear icon in the top right of Jupyter Lab. These steps aren't required, but it would make your report prettier.\n",
    "\n",
    "Briefly explain the steps you took to solve the problem. Make sure to refer to the equations and models explained in the previous section, if required. The idea is that any person should be able to exactly replicate your work by following these steps."
   ]
  },
  {
   "cell_type": "markdown",
   "id": "9fa5d002-987a-4521-87e3-2ec3fa8e4c97",
   "metadata": {},
   "source": [
    "\n",
    "### Calculations and results\n",
    "\n",
    "This section should include **all** plots, tables, and printed outputs that are generated in your homework. \n",
    "\n",
    "Only include brief comments about the results in this section, for the reader to understand what they are reading. Leave all the interpretations for the next section. You may **import your hwx.py file and use the functions and variables defined within it**, and runnable code cells, to demonstrate these calculations and results. For example:"
   ]
  },
  {
   "cell_type": "code",
   "execution_count": 1,
   "id": "395a1839-e5aa-4baa-9b57-f20213da6cf2",
   "metadata": {},
   "outputs": [],
   "source": [
    "import pandas as pd\n",
    "import numpy as np\n",
    "import matplotlib.pyplot as plt\n",
    "\n",
    "from sklearn.model_selection import train_test_split\n",
    "from sklearn.preprocessing import MinMaxScaler"
   ]
  },
  {
   "cell_type": "code",
   "execution_count": 16,
   "id": "6258eb4e-fa69-470d-9e20-42cc1312f4e3",
   "metadata": {},
   "outputs": [
    {
     "name": "stdout",
     "output_type": "stream",
     "text": [
      "Current Directory: /Users/jonathangray/c111/Project\n"
     ]
    }
   ],
   "source": [
    "import os\n",
    "import os\n",
    "os.chdir(\"/path/to/your/project\")  # Change this to your actual project directory\n",
    "print(\"New Working Directory:\", os.getcwd())\n"
   ]
  },
  {
   "cell_type": "markdown",
   "id": "ae7dc9df-2ba9-4cbd-849d-8903dfb0cb54",
   "metadata": {},
   "source": [
    "\n",
    "### Discussions and conclusions\n",
    "\n",
    "Conclude and explain the meaning of the results from the previous section. **Answer any questions posed in the problem statement.** Feel free to include extra analysis."
   ]
  }
 ],
 "metadata": {
  "authors": [
   {
    "name": "Author1"
   },
   {
    "name": "Author2"
   }
  ],
  "kernelspec": {
   "display_name": "Python 3 (ipykernel)",
   "language": "python",
   "name": "python3"
  },
  "language_info": {
   "codemirror_mode": {
    "name": "ipython",
    "version": 3
   },
   "file_extension": ".py",
   "mimetype": "text/x-python",
   "name": "python",
   "nbconvert_exporter": "python",
   "pygments_lexer": "ipython3",
   "version": "3.10.16"
  },
  "title": "Homwork Template"
 },
 "nbformat": 4,
 "nbformat_minor": 5
}
