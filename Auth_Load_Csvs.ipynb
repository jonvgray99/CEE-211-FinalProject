{
 "cells": [
  {
   "cell_type": "code",
<<<<<<< HEAD
   "execution_count": 1,
=======
   "execution_count": 18,
>>>>>>> c899c2f (just before new pull)
   "id": "fe154514-4322-4cdc-aab8-758ffc81d54f",
   "metadata": {},
   "outputs": [
    {
     "name": "stdout",
     "output_type": "stream",
     "text": [
      "Your browser has been opened to visit:\n",
      "\n",
      "    https://accounts.google.com/o/oauth2/auth?client_id=552225366892-ppf3e4ctrsmmjgnoh83di4iiljhu442o.apps.googleusercontent.com&redirect_uri=http%3A%2F%2Flocalhost%3A8080%2F&scope=https%3A%2F%2Fwww.googleapis.com%2Fauth%2Fdrive&access_type=offline&response_type=code\n",
      "\n",
      "Authentication successful.\n"
     ]
    }
   ],
   "source": [
    "import os\n",
    "from pydrive.auth import GoogleAuth\n",
    "from pydrive.drive import GoogleDrive\n",
    "\n",
    "# Authenticate\n",
    "gauth = GoogleAuth()\n",
    "gauth.LocalWebserverAuth()  # Opens a browser to sign in\n",
    "\n",
    "drive = GoogleDrive(gauth)\n",
    "\n",
    "\n"
   ]
  },
  {
   "cell_type": "code",
   "execution_count": 2,
   "id": "f7a8ccb6-55dc-4f4e-bf94-bfa0e6f027d1",
   "metadata": {},
   "outputs": [
    {
     "name": "stdout",
     "output_type": "stream",
     "text": [
      "File Name: Copper_Mining_Raw_Sensor_Data.csv, File ID: 15DuJctjDYv1FKvbAr32ms1CdwEkGnuIW\n",
      "File Name: Downtime_Events.csv, File ID: 1gz2t_v3Xg0zDG3hJ3_-6ZG88tGrTEgyA\n"
     ]
    }
   ],
   "source": [
    "folder_id = \"12ErNewlbToOaBeUwFr8qaGVLNo_PE7Am\"  # Replace with your actual Folder ID\n",
    "\n",
    "file_list = drive.ListFile({'q': f\"'{folder_id}' in parents and trashed=false\"}).GetList()\n",
    "for file in file_list:\n",
    "    print(f\"File Name: {file['title']}, File ID: {file['id']}\")"
   ]
  },
  {
   "cell_type": "code",
   "execution_count": 3,
   "id": "f57c22b4-08ad-4eb9-8587-fcfe3d1146be",
   "metadata": {},
   "outputs": [
    {
     "name": "stdout",
     "output_type": "stream",
     "text": [
      "Downloaded Copper_Mining_Raw_Sensor_Data.csv\n"
     ]
    }
   ],
   "source": [
    "# Define directory and file name\n",
    "download_dir = \"data_files\"  # Change this to your preferred directory\n",
    "os.makedirs(download_dir, exist_ok=True)  # Create directory if it doesn't exist\n",
    "\n",
    "file_id = \"15DuJctjDYv1FKvbAr32ms1CdwEkGnuIW\"  # Replace with actual file ID from the list above\n",
    "file_name = \"Copper_Mining_Raw_Sensor_Data.csv\"\n",
    "file_path = os.path.join(download_dir, file_name)\n",
    "\n",
    "downloaded = drive.CreateFile({'id': file_id})\n",
    "downloaded.GetContentFile(file_path)\n",
    "print(f\"Downloaded {file_name}\")\n"
   ]
  },
  {
   "cell_type": "code",
   "execution_count": 4,
   "id": "71c57291-6db1-49c0-9b39-40ce05604cc4",
   "metadata": {},
   "outputs": [
    {
     "name": "stdout",
     "output_type": "stream",
     "text": [
      "Downloaded Downtime_Events.csv\n"
     ]
    }
   ],
   "source": [
    "file_id = \"1gz2t_v3Xg0zDG3hJ3_-6ZG88tGrTEgyA\"  # Replace with actual file ID from the list above\n",
    "file_name = \"Downtime_Events.csv\"\n",
    "file_path = os.path.join(download_dir, file_name)\n",
    "\n",
    "downloaded = drive.CreateFile({'id': file_id})\n",
    "downloaded.GetContentFile(file_path)\n",
    "print(f\"Downloaded {file_name}\")"
   ]
  },
  {
   "cell_type": "code",
   "execution_count": null,
   "id": "4d7f0b96-a04f-438b-9bb4-a5b14a1b2327",
   "metadata": {},
   "outputs": [],
   "source": []
  }
 ],
 "metadata": {
  "kernelspec": {
   "display_name": "Python 3 (ipykernel)",
   "language": "python",
   "name": "python3"
  },
  "language_info": {
   "codemirror_mode": {
    "name": "ipython",
    "version": 3
   },
   "file_extension": ".py",
   "mimetype": "text/x-python",
   "name": "python",
   "nbconvert_exporter": "python",
   "pygments_lexer": "ipython3",
   "version": "3.10.16"
  }
 },
 "nbformat": 4,
 "nbformat_minor": 5
}
